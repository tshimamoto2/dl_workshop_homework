{
 "cells": [
  {
   "cell_type": "markdown",
   "metadata": {},
   "source": [
    "# カタカナ5文字を自動識別するモデルの構築\n",
    "# 課題提出用Notebook\n",
    "* これは課題提出用ファイルです。\n",
    "* このsubmit_katakana.ipynbファイルを編集し、学習済みモデルなどの必要ファイルを同じフォルダにおき、zipしたものを提出してください。\n",
    "* スキルアップAI運営側で予測精度を計算し、結果をご連絡します。"
   ]
  },
  {
   "cell_type": "code",
   "execution_count": null,
   "metadata": {},
   "outputs": [],
   "source": [
    "import keras\n",
    "from PIL import Image\n",
    "import numpy as np\n",
    "import glob\n",
    "import os, sys\n",
    "from sklearn.preprocessing import LabelBinarizer\n",
    "\n",
    "from ImageLoader import ImageLoader\n",
    "from NNExecutor import NNExecutor\n",
    "\n",
    "##################################################\n",
    "# 以下提出用\n",
    "##################################################\n",
    "def makedataset(dirpath):\n",
    "    \"\"\"\n",
    "    テスト用生画像データを読み、データセットをつくる関数です。\n",
    "    自由に編集してください。\n",
    "    \"\"\"\n",
    "    return ImageLoader().makedataset(dirpath)\n",
    "\n",
    "\n",
    "def predict(test_data, test_label):\n",
    "    \"\"\"\n",
    "    予測する関数です。\n",
    "    自由に編集してください。\n",
    "    \"\"\"\n",
    "    return NNExecutor().predict(\"./DNN.pkl\", test_data, test_label)\n",
    "\n",
    "\n",
    "def main(dirpath):\n",
    "    \"\"\"\n",
    "    この関数が実行対象となります。\n",
    "    編集しないでください。\n",
    "    \"\"\"\n",
    "    # テスト用データをつくる\n",
    "    test_data, test_label = makedataset(dirpath)\n",
    "\n",
    "    # 予測し、損失と精度を返す\n",
    "    loss, accuracy = predict(test_data, test_label)\n",
    "\n",
    "    return loss, accuracy\n",
    "\n",
    "\n",
    "if __name__ == \"__main__\":\n",
    "    \"\"\"\n",
    "    dirpathは、テスト用生データが格納されたディレクトリへの相対パスを指定です。\n",
    "    このファイルを提出する際はdirpath = \"../1_data/test\"にしておいてください。\n",
    "    テスト用生データが格納されたディレクトリの構造は、訓練用生データが格納された\n",
    "    ディレクトリと同じです。\n",
    "    提出前に動作確認する際は、dirpath = \"../1_data/train\"などとしてください。\n",
    "    \"\"\"\n",
    "    dirpath = \"../1_data/test\"\n",
    "\n",
    "    loss, accuracy = main(dirpath)\n",
    "    print('Test loss:', loss)\n",
    "    print('Test accuracy:', accuracy)\n"
   ]
  }
 ],
 "metadata": {
  "kernelspec": {
   "display_name": "Python 3",
   "language": "python",
   "name": "python3"
  },
  "language_info": {
   "codemirror_mode": {
    "name": "ipython",
    "version": 3
   },
   "file_extension": ".py",
   "mimetype": "text/x-python",
   "name": "python",
   "nbconvert_exporter": "python",
   "pygments_lexer": "ipython3",
   "version": "3.6.4"
  }
 },
 "nbformat": 4,
 "nbformat_minor": 2
}
